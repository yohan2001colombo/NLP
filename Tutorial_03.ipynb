{
  "nbformat": 4,
  "nbformat_minor": 0,
  "metadata": {
    "colab": {
      "provenance": [],
      "authorship_tag": "ABX9TyPV81fIoyrLXyKumhZYHRmq",
      "include_colab_link": true
    },
    "kernelspec": {
      "name": "python3",
      "display_name": "Python 3"
    },
    "language_info": {
      "name": "python"
    }
  },
  "cells": [
    {
      "cell_type": "markdown",
      "metadata": {
        "id": "view-in-github",
        "colab_type": "text"
      },
      "source": [
        "<a href=\"https://colab.research.google.com/github/yohan2001colombo/NLP/blob/main/Tutorial_03.ipynb\" target=\"_parent\"><img src=\"https://colab.research.google.com/assets/colab-badge.svg\" alt=\"Open In Colab\"/></a>"
      ]
    },
    {
      "cell_type": "markdown",
      "source": [
        "# Tutorial 03 Report: Phonological and Morphological Analysis"
      ],
      "metadata": {
        "id": "RtYk-FDUL97r"
      }
    },
    {
      "cell_type": "markdown",
      "source": [
        "## 1. Introduction\n",
        "This report covers the implementation and analysis of phonological and morphological features in Python using libraries such as pronouncing, panphon, nltk, and pyphen. The tasks include phonetic transcription, phonological feature extraction, stress pattern analysis, and morphological analysis"
      ],
      "metadata": {
        "id": "IDeBXLrJMESS"
      }
    },
    {
      "cell_type": "code",
      "execution_count": null,
      "metadata": {
        "id": "CekGIAp8dGS3"
      },
      "outputs": [],
      "source": [
        "import nltk\n",
        "import epitran\n",
        "import panphon\n",
        "import matplotlib\n",
        "import pyphen"
      ]
    },
    {
      "cell_type": "markdown",
      "source": [
        "## 2. Phonetic Transcription Using Pronouncing"
      ],
      "metadata": {
        "id": "wpA-goHyhdaT"
      }
    },
    {
      "cell_type": "code",
      "source": [
        "import pronouncing\n",
        "\n",
        "words = [\"phonetics\",\"phonology\",\"morphology\",\"analysis\",\"transcription\"]\n",
        "transcriptions = {}\n",
        "\n",
        "for word in words:\n",
        "    transcription = pronouncing.phones_for_word(word)\n",
        "    transcriptions[word] = transcription[0] if transcription else \"No transcrption found\"\n",
        "print(transcriptions)\n",
        "\n"
      ],
      "metadata": {
        "colab": {
          "base_uri": "https://localhost:8080/"
        },
        "id": "dvLviEUuftS-",
        "outputId": "209348e8-04ee-4a50-b699-b394e775ed42"
      },
      "execution_count": null,
      "outputs": [
        {
          "output_type": "stream",
          "name": "stdout",
          "text": [
            "{'phonetics': 'F AH0 N EH1 T IH0 K S', 'phonology': 'F AH0 N AA1 L AH0 JH IY2', 'morphology': 'M AO0 R F AA1 L AH0 JH IY0', 'analysis': 'AH0 N AE1 L AH0 S AH0 S', 'transcription': 'T R AE2 N S K R IH1 P SH AH0 N'}\n"
          ]
        }
      ]
    },
    {
      "cell_type": "markdown",
      "source": [
        "Explanation:\n",
        "* The **pronouncing** library retrieves ARPAbet phonetic transcriptions for given\n",
        "words.\n",
        "\n",
        "* The output shows stress markers (e.g., **EH1** for primary stress, **AH0** for reduced vowels)."
      ],
      "metadata": {
        "id": "cipJBrqpMQTB"
      }
    },
    {
      "cell_type": "markdown",
      "source": [
        "## 3. Phonological Feature Extraction with Panphon"
      ],
      "metadata": {
        "id": "NLmpDSSeiXWk"
      }
    },
    {
      "cell_type": "code",
      "source": [
        "import panphon\n",
        "\n",
        "# define ARPAbet to IPA mapping (extend as needed)\n",
        "arpabet_to_ipa = arpabet_to_ipa = {\n",
        "    'P': 'p', 'B': 'b', 'K': 'k', 'D': 'd', 'G': 'g',\n",
        "    'T': 't', 'DH': 'ð', 'N': 'n', 'M': 'm', 'NG': 'ŋ',\n",
        "    'S': 's', 'Z': 'z', 'SH': 'ʃ', 'ZH': 'ʒ', 'CH': 'ʧ',\n",
        "    'JH': 'ʤ', 'Y': 'j', 'W': 'w', 'R': 'ɹ', 'L': 'l',\n",
        "    'Y': 'j', 'IY': 'iː', 'IH': 'ɪ', 'EH': 'ɛ', 'AE': 'æ',\n",
        "    'AA': 'ɑː', 'AO': 'ɔː', 'UH': 'ʊ', 'UW': 'uː', 'ER': 'ɜː',\n",
        "    'AH': 'ə', 'AW': 'aʊ', 'OY': 'ɔɪ', 'OW': 'oʊ', 'OY': 'ɔɪ',\n",
        "    'AY': 'aɪ', 'EH0': 'ə', 'IH0': 'ɪ', 'AH0': 'ə', 'UH0': 'ʊ',\n",
        "    'AW0': 'aʊ', 'OY0': 'ɔɪ', 'OW0': 'oʊ', 'AY0': 'aɪ'\n",
        "}\n",
        "# This expanded dictionary includes a broader range of ARPAbet symbols and their IPA equivalents. You can further extend this mapping based on your specific requirements.\n",
        "\n",
        "#Functional to convert ARPAbet to IPA\n",
        "def arpabet_to_ipa_converter(arpabet):\n",
        "    return ''.join([arpabet_to_ipa.get(ph.strip('0123456789'),'') for ph in arpabet.split()]) # The function strips these markers, potentially losing stress information.\n",
        "\n",
        "# Example transcription dictionary\n",
        "transcriptions = {'phonetics': 'F AH0 N EH1 T IH0 K S', 'phonology': 'F AH0 N AA1 L AH0 JH IY2', 'morphology': 'M AO0 R F AA1 L AH0 JH IY0', 'analysis': 'AH0 N AE1 L AH0 S AH0 S', 'transcription': 'T R AE2 N S K R IH1 P SH AH0 N'}\n",
        "\n",
        "ft = panphon.FeatureTable()\n",
        "\n",
        "# Generate phonological features for each word\n",
        "features = {\n",
        "    word : ft.word_fts(arpabet_to_ipa_converter(trans)) for word,trans in transcriptions.items()\n",
        "    if trans != \"No transcription found\"\n",
        "\n",
        "}\n",
        "# After converting ARPAbet transcriptions to IPA, the code uses PanPhon's FeatureTable class to analyze the phonological features of each word. The word_fts method returns a list of Segment objects, each representing a phoneme with its articulatory features\n",
        "\n",
        "# print the features\n",
        "print(features)\n",
        "\n",
        "# Each Segment object contains a list of features such as syl (syllabic), son (sonorant), cont (continuant), and so on, with values indicating their presence (+), absence (-), or neutrality (0).\n",
        "\n",
        "\n",
        "# These features can be utilized for various linguistic analyses, including phoneme classification, language comparison, and phonological pattern recognition"
      ],
      "metadata": {
        "colab": {
          "base_uri": "https://localhost:8080/"
        },
        "id": "S9IL_X0ueJjb",
        "outputId": "60a683fa-d45e-47ba-d15c-44b26fca16c1"
      },
      "execution_count": null,
      "outputs": [
        {
          "output_type": "stream",
          "name": "stdout",
          "text": [
            "{'phonetics': [<Segment [+syl, +son, -cons, +cont, -delrel, -lat, -nas, -strid, +voi, -sg, -cg, 0ant, -cor, 0distr, -lab, -hi, -lo, +back, -round, -velaric, -tense, -long, 0hitone, 0hireg]>, <Segment [-syl, +son, +cons, -cont, -delrel, -lat, +nas, -strid, +voi, -sg, -cg, +ant, +cor, -distr, -lab, -hi, -lo, -back, -round, -velaric, 0tense, -long, 0hitone, 0hireg]>, <Segment [+syl, +son, -cons, +cont, -delrel, -lat, -nas, -strid, +voi, -sg, -cg, 0ant, -cor, 0distr, -lab, -hi, -lo, -back, -round, -velaric, -tense, -long, 0hitone, 0hireg]>, <Segment [-syl, -son, +cons, -cont, -delrel, -lat, -nas, -strid, -voi, -sg, -cg, +ant, +cor, -distr, -lab, -hi, -lo, -back, -round, -velaric, 0tense, -long, 0hitone, 0hireg]>, <Segment [+syl, +son, -cons, +cont, -delrel, -lat, -nas, -strid, +voi, -sg, -cg, 0ant, -cor, 0distr, -lab, +hi, -lo, -back, -round, -velaric, -tense, -long, 0hitone, 0hireg]>, <Segment [-syl, -son, +cons, -cont, -delrel, -lat, -nas, -strid, -voi, -sg, -cg, -ant, -cor, 0distr, -lab, +hi, -lo, +back, -round, -velaric, 0tense, -long, 0hitone, 0hireg]>, <Segment [-syl, -son, +cons, +cont, -delrel, -lat, -nas, +strid, -voi, -sg, -cg, +ant, +cor, -distr, -lab, -hi, -lo, -back, -round, -velaric, 0tense, -long, 0hitone, 0hireg]>], 'phonology': [<Segment [+syl, +son, -cons, +cont, -delrel, -lat, -nas, -strid, +voi, -sg, -cg, 0ant, -cor, 0distr, -lab, -hi, -lo, +back, -round, -velaric, -tense, -long, 0hitone, 0hireg]>, <Segment [-syl, +son, +cons, -cont, -delrel, -lat, +nas, -strid, +voi, -sg, -cg, +ant, +cor, -distr, -lab, -hi, -lo, -back, -round, -velaric, 0tense, -long, 0hitone, 0hireg]>, <Segment [+syl, +son, -cons, +cont, 0delrel, -lat, -nas, -strid, +voi, -sg, -cg, 0ant, -cor, 0distr, -lab, -hi, +lo, +back, -round, -velaric, +tense, +long, 0hitone, 0hireg]>, <Segment [-syl, +son, +cons, +cont, -delrel, +lat, -nas, -strid, +voi, -sg, -cg, +ant, +cor, -distr, -lab, -hi, -lo, -back, -round, -velaric, 0tense, -long, 0hitone, 0hireg]>, <Segment [+syl, +son, -cons, +cont, -delrel, -lat, -nas, -strid, +voi, -sg, -cg, 0ant, -cor, 0distr, -lab, -hi, -lo, +back, -round, -velaric, -tense, -long, 0hitone, 0hireg]>, <Segment [+syl, +son, -cons, +cont, -delrel, -lat, -nas, -strid, +voi, -sg, -cg, 0ant, -cor, 0distr, -lab, +hi, -lo, -back, -round, -velaric, +tense, +long, 0hitone, 0hireg]>], 'morphology': [<Segment [-syl, +son, +cons, -cont, -delrel, -lat, +nas, -strid, +voi, -sg, -cg, +ant, -cor, 0distr, +lab, -hi, -lo, -back, -round, -velaric, 0tense, -long, 0hitone, 0hireg]>, <Segment [+syl, +son, -cons, +cont, -delrel, -lat, -nas, -strid, +voi, -sg, -cg, 0ant, -cor, 0distr, -lab, -hi, -lo, +back, +round, -velaric, -tense, +long, 0hitone, 0hireg]>, <Segment [-syl, +son, -cons, +cont, -delrel, -lat, -nas, -strid, +voi, -sg, -cg, +ant, +cor, -distr, -lab, +hi, -lo, -back, +round, -velaric, 0tense, -long, 0hitone, 0hireg]>, <Segment [+syl, +son, -cons, +cont, 0delrel, -lat, -nas, -strid, +voi, -sg, -cg, 0ant, -cor, 0distr, -lab, -hi, +lo, +back, -round, -velaric, +tense, +long, 0hitone, 0hireg]>, <Segment [-syl, +son, +cons, +cont, -delrel, +lat, -nas, -strid, +voi, -sg, -cg, +ant, +cor, -distr, -lab, -hi, -lo, -back, -round, -velaric, 0tense, -long, 0hitone, 0hireg]>, <Segment [+syl, +son, -cons, +cont, -delrel, -lat, -nas, -strid, +voi, -sg, -cg, 0ant, -cor, 0distr, -lab, -hi, -lo, +back, -round, -velaric, -tense, -long, 0hitone, 0hireg]>, <Segment [+syl, +son, -cons, +cont, -delrel, -lat, -nas, -strid, +voi, -sg, -cg, 0ant, -cor, 0distr, -lab, +hi, -lo, -back, -round, -velaric, +tense, +long, 0hitone, 0hireg]>], 'analysis': [<Segment [+syl, +son, -cons, +cont, -delrel, -lat, -nas, -strid, +voi, -sg, -cg, 0ant, -cor, 0distr, -lab, -hi, -lo, +back, -round, -velaric, -tense, -long, 0hitone, 0hireg]>, <Segment [-syl, +son, +cons, -cont, -delrel, -lat, +nas, -strid, +voi, -sg, -cg, +ant, +cor, -distr, -lab, -hi, -lo, -back, -round, -velaric, 0tense, -long, 0hitone, 0hireg]>, <Segment [+syl, +son, -cons, +cont, -delrel, -lat, -nas, -strid, +voi, -sg, -cg, 0ant, -cor, 0distr, -lab, -hi, +lo, -back, -round, -velaric, +tense, -long, 0hitone, 0hireg]>, <Segment [-syl, +son, +cons, +cont, -delrel, +lat, -nas, -strid, +voi, -sg, -cg, +ant, +cor, -distr, -lab, -hi, -lo, -back, -round, -velaric, 0tense, -long, 0hitone, 0hireg]>, <Segment [+syl, +son, -cons, +cont, -delrel, -lat, -nas, -strid, +voi, -sg, -cg, 0ant, -cor, 0distr, -lab, -hi, -lo, +back, -round, -velaric, -tense, -long, 0hitone, 0hireg]>, <Segment [-syl, -son, +cons, +cont, -delrel, -lat, -nas, +strid, -voi, -sg, -cg, +ant, +cor, -distr, -lab, -hi, -lo, -back, -round, -velaric, 0tense, -long, 0hitone, 0hireg]>, <Segment [+syl, +son, -cons, +cont, -delrel, -lat, -nas, -strid, +voi, -sg, -cg, 0ant, -cor, 0distr, -lab, -hi, -lo, +back, -round, -velaric, -tense, -long, 0hitone, 0hireg]>, <Segment [-syl, -son, +cons, +cont, -delrel, -lat, -nas, +strid, -voi, -sg, -cg, +ant, +cor, -distr, -lab, -hi, -lo, -back, -round, -velaric, 0tense, -long, 0hitone, 0hireg]>], 'transcription': [<Segment [-syl, -son, +cons, -cont, -delrel, -lat, -nas, -strid, -voi, -sg, -cg, +ant, +cor, -distr, -lab, -hi, -lo, -back, -round, -velaric, 0tense, -long, 0hitone, 0hireg]>, <Segment [-syl, +son, -cons, +cont, -delrel, -lat, -nas, -strid, +voi, -sg, -cg, +ant, +cor, -distr, -lab, +hi, -lo, -back, +round, -velaric, 0tense, -long, 0hitone, 0hireg]>, <Segment [+syl, +son, -cons, +cont, -delrel, -lat, -nas, -strid, +voi, -sg, -cg, 0ant, -cor, 0distr, -lab, -hi, +lo, -back, -round, -velaric, +tense, -long, 0hitone, 0hireg]>, <Segment [-syl, +son, +cons, -cont, -delrel, -lat, +nas, -strid, +voi, -sg, -cg, +ant, +cor, -distr, -lab, -hi, -lo, -back, -round, -velaric, 0tense, -long, 0hitone, 0hireg]>, <Segment [-syl, -son, +cons, +cont, -delrel, -lat, -nas, +strid, -voi, -sg, -cg, +ant, +cor, -distr, -lab, -hi, -lo, -back, -round, -velaric, 0tense, -long, 0hitone, 0hireg]>, <Segment [-syl, -son, +cons, -cont, -delrel, -lat, -nas, -strid, -voi, -sg, -cg, -ant, -cor, 0distr, -lab, +hi, -lo, +back, -round, -velaric, 0tense, -long, 0hitone, 0hireg]>, <Segment [-syl, +son, -cons, +cont, -delrel, -lat, -nas, -strid, +voi, -sg, -cg, +ant, +cor, -distr, -lab, +hi, -lo, -back, +round, -velaric, 0tense, -long, 0hitone, 0hireg]>, <Segment [+syl, +son, -cons, +cont, -delrel, -lat, -nas, -strid, +voi, -sg, -cg, 0ant, -cor, 0distr, -lab, +hi, -lo, -back, -round, -velaric, -tense, -long, 0hitone, 0hireg]>, <Segment [-syl, -son, +cons, -cont, -delrel, -lat, -nas, -strid, -voi, -sg, -cg, +ant, -cor, 0distr, +lab, -hi, -lo, -back, -round, -velaric, 0tense, -long, 0hitone, 0hireg]>, <Segment [-syl, -son, +cons, +cont, -delrel, -lat, -nas, +strid, -voi, -sg, -cg, -ant, +cor, +distr, -lab, -hi, -lo, -back, -round, -velaric, 0tense, -long, 0hitone, 0hireg]>, <Segment [+syl, +son, -cons, +cont, -delrel, -lat, -nas, -strid, +voi, -sg, -cg, 0ant, -cor, 0distr, -lab, -hi, -lo, +back, -round, -velaric, -tense, -long, 0hitone, 0hireg]>, <Segment [-syl, +son, +cons, -cont, -delrel, -lat, +nas, -strid, +voi, -sg, -cg, +ant, +cor, -distr, -lab, -hi, -lo, -back, -round, -velaric, 0tense, -long, 0hitone, 0hireg]>]}\n"
          ]
        }
      ]
    },
    {
      "cell_type": "markdown",
      "source": [
        "Explanation:\n",
        "* Converts ARPAbet to IPA and extracts phonological features (e.g., **+syl** for syllabic, **-cons** for non-consonantal).\n",
        "\n",
        "* Useful for phoneme classification and linguistic research."
      ],
      "metadata": {
        "id": "qsWplU2PMp_6"
      }
    },
    {
      "cell_type": "markdown",
      "source": [
        "## 4. Phonome Frequency Analysis"
      ],
      "metadata": {
        "id": "e2cgCBJfnseU"
      }
    },
    {
      "cell_type": "code",
      "source": [
        "from collections import Counter\n",
        "\n",
        "#split all transcriptions into phonemes(by space),then\n",
        "all_phonemes = \"\".join(transcriptions.values()).split()\n",
        "phoneme_counts = Counter(all_phonemes)\n",
        "\n",
        "print(phoneme_counts)"
      ],
      "metadata": {
        "colab": {
          "base_uri": "https://localhost:8080/"
        },
        "id": "0eM1_4t4nLpX",
        "outputId": "2cbbbff6-5430-4a6f-b52e-27e0c3f3275f"
      },
      "execution_count": null,
      "outputs": [
        {
          "output_type": "stream",
          "name": "stdout",
          "text": [
            "Counter({'AH0': 7, 'N': 5, 'L': 3, 'R': 3, 'F': 2, 'K': 2, 'AA1': 2, 'JH': 2, 'S': 2, 'EH1': 1, 'T': 1, 'IH0': 1, 'SF': 1, 'IY2M': 1, 'AO0': 1, 'IY0AH0': 1, 'AE1': 1, 'ST': 1, 'AE2': 1, 'IH1': 1, 'P': 1, 'SH': 1})\n"
          ]
        }
      ]
    },
    {
      "cell_type": "markdown",
      "source": [
        "Explanation:\n",
        "* Counts occurrences of each phoneme.\n",
        "\n",
        "* AH0 (schwa) is the most frequent, indicating its common use in English"
      ],
      "metadata": {
        "id": "jTjEKkKENLux"
      }
    },
    {
      "cell_type": "code",
      "source": [
        "\"\".join(transcriptions.values()).split();"
      ],
      "metadata": {
        "id": "nm9IpeBrdpS7"
      },
      "execution_count": null,
      "outputs": []
    },
    {
      "cell_type": "markdown",
      "source": [
        "## 5. Stress Pattern Analysis with CMU Dictionary"
      ],
      "metadata": {
        "id": "4l6Q40zinuvR"
      }
    },
    {
      "cell_type": "code",
      "source": [
        "nltk.download('cmudict')"
      ],
      "metadata": {
        "id": "gKMAsXSupq2z",
        "colab": {
          "base_uri": "https://localhost:8080/"
        },
        "outputId": "fc9db1c9-ba4a-45e9-9ada-9f1df0abcbd2"
      },
      "execution_count": null,
      "outputs": [
        {
          "output_type": "stream",
          "name": "stderr",
          "text": [
            "[nltk_data] Downloading package cmudict to /root/nltk_data...\n",
            "[nltk_data]   Unzipping corpora/cmudict.zip.\n"
          ]
        },
        {
          "output_type": "execute_result",
          "data": {
            "text/plain": [
              "True"
            ]
          },
          "metadata": {},
          "execution_count": 9
        }
      ]
    },
    {
      "cell_type": "code",
      "source": [
        "from nltk.corpus import cmudict\n",
        "\n",
        "# Initialize the CMU Pronouncing Dictionary\n",
        "d = cmudict.dict()\n",
        "\n",
        "# Make sure 'words' is defined\n",
        "words = ['phonetics','phonology','morphology','analysis','transcription']\n",
        "\n",
        "stress_patterns = {}\n",
        "\n",
        "for word in words:\n",
        "  if word in d:\n",
        "    trans = d[word][0]\n",
        "    pattern = ''.join(['1' if '1' in ph else '0' for ph in trans])\n",
        "    stress_patterns[word] = pattern\n",
        "  else:\n",
        "    stress_patterns[word] = \"No found\"\n",
        "\n",
        "print(stress_patterns)\n",
        "\n"
      ],
      "metadata": {
        "colab": {
          "base_uri": "https://localhost:8080/"
        },
        "id": "AymmNcU9n0ka",
        "outputId": "b9babb84-8995-4194-b9f5-51258e620479"
      },
      "execution_count": null,
      "outputs": [
        {
          "output_type": "stream",
          "name": "stdout",
          "text": [
            "{'phonetics': '00010000', 'phonology': '00010000', 'morphology': '000010000', 'analysis': '00100000', 'transcription': '000000010000'}\n"
          ]
        }
      ]
    },
    {
      "cell_type": "markdown",
      "source": [
        "Explanation:\n",
        "* Extracts stress patterns from the CMU Pronouncing Dictionary.\n",
        "\n",
        "* 1 indicates primary stress, 0 indicates unstressed syllables."
      ],
      "metadata": {
        "id": "9-hHzeIeNmXR"
      }
    },
    {
      "cell_type": "code",
      "source": [
        "d[\"phonetics\"][0]"
      ],
      "metadata": {
        "colab": {
          "base_uri": "https://localhost:8080/"
        },
        "id": "nN1xcB05bHCz",
        "outputId": "673f1ee2-9724-4ef1-edf1-e852f40a67e2"
      },
      "execution_count": null,
      "outputs": [
        {
          "output_type": "execute_result",
          "data": {
            "text/plain": [
              "['F', 'AH0', 'N', 'EH1', 'T', 'IH0', 'K', 'S']"
            ]
          },
          "metadata": {},
          "execution_count": 23
        }
      ]
    },
    {
      "cell_type": "markdown",
      "source": [
        "## 6. Vowel and Consonants Analysis"
      ],
      "metadata": {
        "id": "O17e3SedrE-g"
      }
    },
    {
      "cell_type": "code",
      "source": [
        "from collections import Counter\n",
        "\n",
        "# Define ARPAbet vowel phonemes\n",
        "arpabwt_vowels = {\"AA\", \"AE\", \"AH\", \"AO\", \"AW\", \"AY\", \"EH\", \"ER\", \"EY\", \"IH\",\"IY\", \"OW\", \"OY\", \"UH\", \"UW\"}\n",
        "\n",
        "#combine all the transcriptions and split into phonemes\n",
        "phonemes = \" \".join(transcriptions.values()).split()\n",
        "\n",
        "# Seperate vowels and consonants (strip stress digits)\n",
        "vowels = [ph for ph in phonemes if ph.strip('0123456789') in arpabwt_vowels]\n",
        "consonants = [ph for ph in phonemes if ph.strip('0123456789') not in arpabwt_vowels]\n",
        "\n",
        "# Count\n",
        "vowel_count = Counter(vowels)\n",
        "consonant_count = Counter(consonants)\n",
        "\n",
        "print(\"Vowels:\",vowel_count)\n",
        "print(\"Consonants:\",consonant_count)\n",
        "\n",
        "\n"
      ],
      "metadata": {
        "colab": {
          "base_uri": "https://localhost:8080/"
        },
        "id": "5hNy9F_EpCQR",
        "outputId": "aa02a468-005a-45a7-c7b8-686a90f77343"
      },
      "execution_count": null,
      "outputs": [
        {
          "output_type": "stream",
          "name": "stdout",
          "text": [
            "Vowels: Counter({'AH0': 8, 'AA1': 2, 'EH1': 1, 'IH0': 1, 'IY2': 1, 'AO0': 1, 'IY0': 1, 'AE1': 1, 'AE2': 1, 'IH1': 1})\n",
            "Consonants: Counter({'N': 5, 'S': 4, 'F': 3, 'L': 3, 'R': 3, 'T': 2, 'K': 2, 'JH': 2, 'M': 1, 'P': 1, 'SH': 1})\n"
          ]
        }
      ]
    },
    {
      "cell_type": "markdown",
      "source": [
        "Explanation:\n",
        "* Separates vowels and consonants from transcriptions.\n",
        "\n",
        "* Useful for studying phonotactics or syllable structure."
      ],
      "metadata": {
        "id": "h5f1TD-SN0iq"
      }
    },
    {
      "cell_type": "markdown",
      "source": [
        "## 8. Phonological Rule Application"
      ],
      "metadata": {
        "id": "-M9p4RoJZqXU"
      }
    },
    {
      "cell_type": "code",
      "source": [
        "voiceless_to_voiced = {'p':'b','t':'d','k':'g'}\n",
        "\n",
        "def apply_voicing_rule ( word ) :\n",
        "  return ''.join([voiceless_to_voiced.get(ch,ch) for ch in word])\n",
        "\n",
        "new_transcriptions = { w : apply_voicing_rule ( t . replace( '' ,''))for w,t in transcriptions . items () if t != \"No transcription found\" }\n",
        "print ( new_transcriptions )\n"
      ],
      "metadata": {
        "id": "baZItTtpZ3vs"
      },
      "execution_count": null,
      "outputs": []
    },
    {
      "cell_type": "markdown",
      "source": [
        "## 8. Morphological Analysis\n",
        "### **8.1**. Text Tokenization and Stopword Removal"
      ],
      "metadata": {
        "id": "EMLRPKvGPm-I"
      }
    },
    {
      "cell_type": "code",
      "source": [
        "import nltk\n",
        "#nltk.download ('gutenberg')\n",
        "#nltk.download ('punkt')\n",
        "#nltk.download ('stopwords')\n",
        "#nltk.download('punkt_tab')\n",
        "\n",
        "from nltk . corpus import gutenberg , stopwords\n",
        "from nltk . tokenize import word_tokenize\n",
        "\n",
        "text = gutenberg.raw('austen-emma.txt')\n",
        "words = word_tokenize (text)\n",
        "\n",
        "stop_words = set (stopwords . words ('english'))\n",
        "filtered = [ w for w in words if w . lower () not in stop_words ]\n",
        "print ( filtered [:50])"
      ],
      "metadata": {
        "id": "l-Nvy7pMPl2I",
        "outputId": "4e8b8907-f8d4-4c96-be52-3c53800d1535",
        "colab": {
          "base_uri": "https://localhost:8080/"
        }
      },
      "execution_count": 8,
      "outputs": [
        {
          "output_type": "stream",
          "name": "stdout",
          "text": [
            "['[', 'Emma', 'Jane', 'Austen', '1816', ']', 'VOLUME', 'CHAPTER', 'Emma', 'Woodhouse', ',', 'handsome', ',', 'clever', ',', 'rich', ',', 'comfortable', 'home', 'happy', 'disposition', ',', 'seemed', 'unite', 'best', 'blessings', 'existence', ';', 'lived', 'nearly', 'twenty-one', 'years', 'world', 'little', 'distress', 'vex', '.', 'youngest', 'two', 'daughters', 'affectionate', ',', 'indulgent', 'father', ';', ',', 'consequence', 'sister', \"'s\", 'marriage']\n"
          ]
        }
      ]
    },
    {
      "cell_type": "markdown",
      "source": [
        "### 8.2 Stemming and Lemmatization"
      ],
      "metadata": {
        "id": "cIkkQqxMT6Vf"
      }
    },
    {
      "cell_type": "code",
      "source": [
        "from nltk . stem import PorterStemmer , WordNetLemmatizer\n",
        "\n",
        "nltk.download ('wordnet')\n",
        "\n",
        "stemmer = PorterStemmer()\n",
        "lemmatizer = WordNetLemmatizer()\n",
        "\n",
        "stemmed = [stemmer.stem(w) for w in filtered]\n",
        "lemmatized = [lemmatizer.lemmatize(w) for w in filtered]\n",
        "\n",
        "print (\"Stemmed words:\",stemmed[:20])\n",
        "print (\"Lemmatized words:\",lemmatized[:20])\n"
      ],
      "metadata": {
        "id": "P9WypfNcT-FW",
        "outputId": "21f268b9-bc58-4f86-9143-71b759e55238",
        "colab": {
          "base_uri": "https://localhost:8080/"
        }
      },
      "execution_count": 12,
      "outputs": [
        {
          "output_type": "stream",
          "name": "stderr",
          "text": [
            "[nltk_data] Downloading package wordnet to /root/nltk_data...\n"
          ]
        },
        {
          "output_type": "stream",
          "name": "stdout",
          "text": [
            "Stemmed words: ['[', 'emma', 'jane', 'austen', '1816', ']', 'volum', 'chapter', 'emma', 'woodhous', ',', 'handsom', ',', 'clever', ',', 'rich', ',', 'comfort', 'home', 'happi']\n",
            "Lemmatized words: ['[', 'Emma', 'Jane', 'Austen', '1816', ']', 'VOLUME', 'CHAPTER', 'Emma', 'Woodhouse', ',', 'handsome', ',', 'clever', ',', 'rich', ',', 'comfortable', 'home', 'happy']\n"
          ]
        }
      ]
    },
    {
      "cell_type": "markdown",
      "source": [
        "### 8.3 Morphological Complexity and Affix Analysis"
      ],
      "metadata": {
        "id": "WlIOWP00UjCW"
      }
    },
    {
      "cell_type": "code",
      "source": [
        "from collections import Counter\n",
        "\n",
        "lengths = [len(w)for w in filtered]\n",
        "\n",
        "print(\"Average word length:\" ,sum(lengths)/len(lengths))\n",
        "\n",
        "prefixes = Counter([w[:3] for w in filtered if len(w) >3])\n",
        "suffixes = Counter ([w[-3:] for w in filtered if len(w) > 3])\n",
        "\n",
        "print(\"Top prefixes : \" , prefixes.most_common(10))\n",
        "print(\"Top suffixes : \" , suffixes.most_common(10))"
      ],
      "metadata": {
        "id": "koYbr47tVMQ3",
        "outputId": "74e05624-03bb-47c0-f5c9-ca091cb4bf3c",
        "colab": {
          "base_uri": "https://localhost:8080/"
        }
      },
      "execution_count": 13,
      "outputs": [
        {
          "output_type": "stream",
          "name": "stdout",
          "text": [
            "Average word length : 4.591895359748741\n",
            "Top prefixes :  [('cou', 1001), ('thi', 947), ('con', 918), ('Emm', 865), ('eve', 843), ('com', 825), ('wou', 820), ('Mrs', 668), ('Har', 667), ('mus', 610)]\n",
            "Top suffixes :  [('ing', 4227), ('uld', 1654), ('ion', 1473), ('ent', 1083), ('ght', 1012), ('her', 972), ('mma', 860), ('nce', 847), ('ton', 842), ('ted', 808)]\n"
          ]
        }
      ]
    },
    {
      "cell_type": "markdown",
      "source": [
        "### 8.4. Syllable and Compound Word Analysis"
      ],
      "metadata": {
        "id": "By6h7WQaR1hA"
      }
    },
    {
      "cell_type": "code",
      "source": [
        "import pyphen\n",
        "dic = pyphen. Pyphen (lang ='en')\n",
        "syllables = [len(dic.inserted(w).split('-')) for w in filtered]\n",
        "print ( \" Average syllables per word:\" ,sum(syllables)/len(syllables))"
      ],
      "metadata": {
        "id": "I3GzCYlCR4Nv",
        "outputId": "d9edeb1b-7f3b-4e71-c421-3502948ceb38",
        "colab": {
          "base_uri": "https://localhost:8080/"
        }
      },
      "execution_count": 14,
      "outputs": [
        {
          "output_type": "stream",
          "name": "stdout",
          "text": [
            " Average syllables per word :  1.4706034433230557\n"
          ]
        }
      ]
    },
    {
      "cell_type": "markdown",
      "source": [
        "## 8.5. Visualization"
      ],
      "metadata": {
        "id": "Bmd2ylZqWzmM"
      }
    },
    {
      "cell_type": "code",
      "source": [
        "import matplotlib . pyplot as plt\n",
        "\n",
        "labels,values = zip(*prefixes.most_common(10))\n",
        "plt.bar(labels,values)\n",
        "plt.title(\"Top 10 Prefixes\")\n",
        "plt.show()\n",
        "labels,values = zip(*suffixes.most_common(10))\n",
        "plt.bar(labels,values)\n",
        "plt.title(\"Top 10 Suffixes\")\n",
        "plt.show()"
      ],
      "metadata": {
        "id": "D8CnHstSWzCl",
        "outputId": "34317080-095c-4b7d-c289-0aefcd9dcd15",
        "colab": {
          "base_uri": "https://localhost:8080/",
          "height": 887
        }
      },
      "execution_count": 15,
      "outputs": [
        {
          "output_type": "display_data",
          "data": {
            "text/plain": [
              "<Figure size 640x480 with 1 Axes>"
            ],
            "image/png": "[encoded data removed]"
          },
          "metadata": {}
        },
        {
          "output_type": "display_data",
          "data": {
            "text/plain": [
              "<Figure size 640x480 with 1 Axes>"
            ],
            "image/png": "[encoded data removed]"
          },
          "metadata": {}
        }
      ]
    }
  ]
}