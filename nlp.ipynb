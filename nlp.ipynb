{
 "cells": [
  {
   "cell_type": "markdown",
   "id": "2277871d",
   "metadata": {},
   "source": [
    "# Tutorial 01 & 02"
   ]
  },
  {
   "cell_type": "code",
   "execution_count": 21,
   "id": "c028c2d8",
   "metadata": {},
   "outputs": [
    {
     "name": "stdout",
     "output_type": "stream",
     "text": [
      "*** Introductory Examples for the NLTK Book ***\n",
      "Loading text1, ..., text9 and sent1, ..., sent9\n",
      "Type the name of the text or sentence to view it.\n",
      "Type: 'texts()' or 'sents()' to list the materials.\n",
      "text1: Moby Dick by Herman Melville 1851\n",
      "text2: Sense and Sensibility by Jane Austen 1811\n",
      "text3: The Book of Genesis\n",
      "text4: Inaugural Address Corpus\n",
      "text5: Chat Corpus\n",
      "text6: Monty Python and the Holy Grail\n",
      "text7: Wall Street Journal\n",
      "text8: Personals Corpus\n",
      "text9: The Man Who Was Thursday by G . K . Chesterton 1908\n"
     ]
    }
   ],
   "source": [
    "#load the necessary library\n",
    "# !pip install nltk\n",
    "import nltk\n",
    "from nltk.text import Text\n",
    "from nltk.tokenize import word_tokenize\n",
    "from nltk.book import *\n",
    "# nltk.download('punkt') # tokenizer models\n",
    "# nltk.download('book')"
   ]
  },
  {
   "cell_type": "code",
   "execution_count": 7,
   "id": "f22f4daf",
   "metadata": {},
   "outputs": [],
   "source": [
    "custom_text = \"Call me Ishmael. Some years ago—never mind how long precisely—having little or no money in my purse, and nothing particular to interest me on shore, I thought I would sail about a little and see the watery part of the world.It is a way I have of driving off the spleen and regulating the circulation\""
   ]
  },
  {
   "cell_type": "code",
   "execution_count": 16,
   "id": "8ff6a6ab",
   "metadata": {},
   "outputs": [
    {
     "name": "stdout",
     "output_type": "stream",
     "text": [
      "Displaying 1 of 1 matches:\n",
      " Call me Ishmael . Some years ago—never mi\n"
     ]
    }
   ],
   "source": [
    "# convert the paragraph into a list of words\n",
    "\n",
    "tokens = word_tokenize(custom_text) # output - list type\n",
    "text_custom = Text(tokens) # <Text: Call me Ishmael . Some years ago—never mind...>"
   ]
  },
  {
   "cell_type": "code",
   "execution_count": 19,
   "id": "d30563d5",
   "metadata": {},
   "outputs": [
    {
     "name": "stdout",
     "output_type": "stream",
     "text": [
      "Displaying 1 of 1 matches:\n",
      " Call me Ishmael . Some years ago—never mi\n",
      "\n",
      " Vocabulary Size : 46\n"
     ]
    }
   ],
   "source": [
    "text_custom.concordance('Call') # count the Call word\n",
    "print(f'\\n Vocabulary Size : {len(set(tokens))}')\n",
    "# custom_text.count('Call')"
   ]
  },
  {
   "cell_type": "code",
   "execution_count": 22,
   "id": "e746f7b8",
   "metadata": {},
   "outputs": [
    {
     "name": "stdout",
     "output_type": "stream",
     "text": [
      "<Text: The Book of Genesis>\n"
     ]
    }
   ],
   "source": [
    "print(text3)"
   ]
  },
  {
   "cell_type": "code",
   "execution_count": 24,
   "id": "d349c6bf",
   "metadata": {},
   "outputs": [
    {
     "name": "stdout",
     "output_type": "stream",
     "text": [
      "Total Tokens : 44764 and Unique Tokens : 2789\n",
      "Lexical Diversity : 0.06230453042623537\n"
     ]
    }
   ],
   "source": [
    "print(f'Total Tokens : {len(text3)} and Unique Tokens : {len(set(text3))}')\n",
    "print(f'Lexical Diversity : {len(set(text3))/len(text3)}')"
   ]
  },
  {
   "cell_type": "markdown",
   "id": "782b72a0",
   "metadata": {},
   "source": [
    "# Tutorial 03"
   ]
  },
  {
   "cell_type": "code",
   "execution_count": 26,
   "id": "e982c437",
   "metadata": {},
   "outputs": [],
   "source": [
    "# !pip install epitran - convert word to IPA (International Phonetic Alphabet)\n",
    "# !pip install panphon - to work with sounds of words written in IPA\n",
    "# !pip install pronouncing - work with the CMU Pronouncing Dictionary\n",
    "\n",
    "import pronouncing"
   ]
  },
  {
   "cell_type": "code",
   "execution_count": 28,
   "id": "87f47c25",
   "metadata": {},
   "outputs": [
    {
     "name": "stdout",
     "output_type": "stream",
     "text": [
      "{'phonetics': 'F AH0 N EH1 T IH0 K S', 'phonology': 'F AH0 N AA1 L AH0 JH IY2', 'morphology': 'M AO0 R F AA1 L AH0 JH IY0', 'analysis': 'AH0 N AE1 L AH0 S AH0 S', 'transcription': 'T R AE2 N S K R IH1 P SH AH0 N'}\n"
     ]
    }
   ],
   "source": [
    "words = ['phonetics', 'phonology', 'morphology', 'analysis', 'transcription']\n",
    "\n",
    "transcription = {}\n",
    "\n",
    "for w in words:\n",
    "    phones = pronouncing.phones_for_word(w)\n",
    "    if phones :\n",
    "        transcription[w] = phones[0]\n",
    "    else:\n",
    "        transcription[w] = 'No trancription found'\n",
    "print(transcription)"
   ]
  },
  {
   "cell_type": "markdown",
   "id": "a802d322",
   "metadata": {},
   "source": [
    "### Phonome Frequency Analysis"
   ]
  },
  {
   "cell_type": "code",
   "execution_count": 29,
   "id": "ed2a156a",
   "metadata": {},
   "outputs": [],
   "source": [
    "from collections import Counter"
   ]
  },
  {
   "cell_type": "code",
   "execution_count": 31,
   "id": "7122f45e",
   "metadata": {},
   "outputs": [
    {
     "name": "stdout",
     "output_type": "stream",
     "text": [
      "Counter({'A': 15, 'H': 14, '0': 11, 'N': 5, '1': 5, 'S': 5, 'I': 4, 'F': 3, 'E': 3, 'L': 3, 'R': 3, 'T': 2, 'K': 2, 'J': 2, 'Y': 2, '2': 2, 'M': 1, 'O': 1, 'P': 1})\n"
     ]
    }
   ],
   "source": [
    "# combine all transcription into a single string(without spaces)\n",
    "all_phones = ''.join([t.replace(' ','') for t in transcription.values() if t != 'No transcription found'])\n",
    "\n",
    "phoneme_counts = Counter(all_phones)\n",
    "\n",
    "print(phoneme_counts)"
   ]
  },
  {
   "cell_type": "markdown",
   "id": "d79c6d8a",
   "metadata": {},
   "source": [
    "### Stress Pattern analysis with CMU dictionary"
   ]
  },
  {
   "cell_type": "code",
   "execution_count": 34,
   "id": "9c25e883",
   "metadata": {
    "scrolled": true
   },
   "outputs": [
    {
     "name": "stderr",
     "output_type": "stream",
     "text": [
      "[nltk_data] Downloading package cmudict to C:\\Users\\The\n",
      "[nltk_data]     User\\AppData\\Roaming\\nltk_data...\n",
      "[nltk_data]   Package cmudict is already up-to-date!\n"
     ]
    }
   ],
   "source": [
    "nltk.download('cmudict')\n",
    "from nltk.corpus import cmudict"
   ]
  },
  {
   "cell_type": "code",
   "execution_count": 35,
   "id": "d973599a",
   "metadata": {},
   "outputs": [
    {
     "name": "stdout",
     "output_type": "stream",
     "text": [
      "{'phonetics': '00010000', 'phonology': '00010000', 'morphology': '000010000', 'analysis': '00100000', 'transcription': '000000010000'}\n"
     ]
    }
   ],
   "source": [
    "d = cmudict.dict()\n",
    "stress_patterns = {}\n",
    "\n",
    "for w in words:\n",
    "    if w in d:\n",
    "        transcription = d[w][0]\n",
    "        pattern = ''.join(['1' if '1' in ph else '0' for ph in transcription])\n",
    "        stress_patterns[w] = pattern\n",
    "        \n",
    "print(stress_patterns)"
   ]
  }
 ],
 "metadata": {
  "kernelspec": {
   "display_name": "Python 3 (ipykernel)",
   "language": "python",
   "name": "python3"
  },
  "language_info": {
   "codemirror_mode": {
    "name": "ipython",
    "version": 3
   },
   "file_extension": ".py",
   "mimetype": "text/x-python",
   "name": "python",
   "nbconvert_exporter": "python",
   "pygments_lexer": "ipython3",
   "version": "3.7.9"
  }
 },
 "nbformat": 4,
 "nbformat_minor": 5
}
