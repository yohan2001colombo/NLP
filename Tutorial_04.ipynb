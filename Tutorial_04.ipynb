{
  "nbformat": 4,
  "nbformat_minor": 0,
  "metadata": {
    "colab": {
      "provenance": [],
      "authorship_tag": "ABX9TyNNOrNCE+N6Tvvp6XzYTvjV",
      "include_colab_link": true
    },
    "kernelspec": {
      "name": "python3",
      "display_name": "Python 3"
    },
    "language_info": {
      "name": "python"
    }
  },
  "cells": [
    {
      "cell_type": "markdown",
      "metadata": {
        "id": "view-in-github",
        "colab_type": "text"
      },
      "source": [
        "<a href=\"https://colab.research.google.com/github/yohan2001colombo/NLP/blob/main/Tutorial_04.ipynb\" target=\"_parent\"><img src=\"https://colab.research.google.com/assets/colab-badge.svg\" alt=\"Open In Colab\"/></a>"
      ]
    },
    {
      "cell_type": "code",
      "execution_count": 1,
      "metadata": {
        "id": "TZvEIv22GXQ8"
      },
      "outputs": [],
      "source": [
        "import nltk\n",
        "\n",
        "# imports the CFG module for defining context-free grammers\n",
        "from nltk import CFG\n",
        "# imports the parsers you want to use\n",
        "from nltk.parse import ChartParser,RecursiveDescentParser"
      ]
    },
    {
      "cell_type": "code",
      "source": [
        "# Define the context free grammar\n",
        "cfg = CFG.fromstring(\"\"\"\n",
        "S -> NP VP\n",
        "NP -> Det N | 'I'\n",
        "VP -> V NP | VP PP\n",
        "PP -> P NP\n",
        "Det -> 'a'|'A'|'the'|'my'\n",
        "N -> 'man'|'hill'|'telescope'|'dog'|'cat'|'park'\n",
        "V -> 'saw'|'ate'|'walked'\n",
        "P ->  'on'|'in'|'by'|'with'\n",
        "\"\"\")\n"
      ],
      "metadata": {
        "id": "pyAAohSMHiCk"
      },
      "execution_count": 2,
      "outputs": []
    },
    {
      "cell_type": "code",
      "source": [
        "parser = ChartParser(cfg)"
      ],
      "metadata": {
        "id": "PVoVJZmiI7WX"
      },
      "execution_count": 3,
      "outputs": []
    },
    {
      "cell_type": "code",
      "source": [
        "# parse a sentence\n",
        "sentence = \"I saw the man with the telescope\"\n",
        "words = sentence.split()\n",
        "\n",
        "print(f\"Parsing sentence : {sentence}\")\n",
        "for tree in parser.parse(words):\n",
        "  print(tree)\n",
        "  tree.pretty_print()"
      ],
      "metadata": {
        "colab": {
          "base_uri": "https://localhost:8080/"
        },
        "id": "9KpJx5NBJPlP",
        "outputId": "c2782108-e1b6-4571-ea92-2da2df3e88e9"
      },
      "execution_count": 4,
      "outputs": [
        {
          "output_type": "stream",
          "name": "stdout",
          "text": [
            "Parsing sentence : I saw the man with the telescope\n",
            "(S\n",
            "  (NP I)\n",
            "  (VP\n",
            "    (VP (V saw) (NP (Det the) (N man)))\n",
            "    (PP (P with) (NP (Det the) (N telescope)))))\n",
            "     S                                    \n",
            "  ___|___________                          \n",
            " |               VP                       \n",
            " |        _______|________                 \n",
            " |       VP               PP              \n",
            " |    ___|___         ____|___             \n",
            " |   |       NP      |        NP          \n",
            " |   |    ___|___    |     ___|______      \n",
            " NP  V  Det      N   P   Det         N    \n",
            " |   |   |       |   |    |          |     \n",
            " I  saw the     man with the     telescope\n",
            "\n"
          ]
        }
      ]
    },
    {
      "cell_type": "code",
      "source": [
        "import nltk\n",
        "from nltk import CFG\n",
        "from nltk.parse import ChartParser\n",
        "\n",
        "# define the Context Free Grammer (CFG) in Sinhala\n",
        "cfg = CFG.fromstring(\"\"\"\n",
        "  S -> NP VP\n",
        "  VP -> V NP | V NP PP | V PP\n",
        "  PP -> P NP\n",
        "  NP -> \"මම\" | Det N | N\n",
        "  V  -> \"යනවා\"|\"කනවා\"|\"බලනවා\"|\"ඉගනගන්නවා\"\n",
        "  N  -> \"පාසල\"|\"ගුරුවරයා\"|\"පොත\"|\"දුරදක්න\"|\"බල්ල\"|\"පූසා\"|\"උද්යානය\"\n",
        "  Det -> 'එක' | 'මෙම' | 'ඒ' | 'මගේ'\n",
        "  P -> 'ට' | 'සමග' | 'අසල' | 'දී'\n",
        "\"\"\")\n",
        "\n",
        "# Create a chart parser with the defined grammar\n",
        "parser = ChartParser(cfg)\n",
        "# Create a sentence to be parsed\n",
        "sentence = \"මම පාසල ට යනවා\"\n",
        "# Split the sentence into a list of words\n",
        "words = sentence.split()\n",
        "# Parse the sentence using your CFG and the ChartParser\n",
        "print(f\"Parsing sentence: {sentence}\")\n",
        "\n",
        "for tree in parser.parse(words):\n",
        "  print(tree)\n",
        "  tree.pretty_print()\n",
        "\n"
      ],
      "metadata": {
        "colab": {
          "base_uri": "https://localhost:8080/"
        },
        "id": "GNH5NgmFMgk2",
        "outputId": "d12dce87-e53e-4ee7-df2a-f55e6af2edd5"
      },
      "execution_count": 18,
      "outputs": [
        {
          "output_type": "stream",
          "name": "stdout",
          "text": [
            "Parsing sentence: මම පාසල ට යනවා\n"
          ]
        }
      ]
    },
    {
      "cell_type": "markdown",
      "source": [
        "# Questions"
      ],
      "metadata": {
        "id": "Bi-uB0oJjjOr"
      }
    },
    {
      "cell_type": "markdown",
      "source": [
        "1."
      ],
      "metadata": {
        "id": "IH_KBX_tm9MK"
      }
    },
    {
      "cell_type": "code",
      "source": [
        "# Define the context free grammar\n",
        "cfg = CFG.fromstring(\"\"\"\n",
        "  S -> NP VP\n",
        "  VP -> V NP | V NP PP | V PP | V\n",
        "  PP -> P NP\n",
        "  NP -> Det N | N | Pronoun | NP PP\n",
        "  Det -> \"the\" | \"a\" | \"her\" | \"his\" | \"my\"\n",
        "  N -> \"cat\" | \"park\" | \"dog\" | \"telescope\" | \"book\" | \"man\"\n",
        "  V -> \"walked\" | \"saw\" | \"ran\" | \"ate\"\n",
        "  P -> \"in\" | \"on\" | \"with\" | \"near\"\n",
        "  Pronoun -> \"she\" | \"he\" | \"it\" | \"they\"\n",
        "\"\"\")"
      ],
      "metadata": {
        "id": "rUfxIi0qZHax"
      },
      "execution_count": 44,
      "outputs": []
    },
    {
      "cell_type": "code",
      "source": [
        "# parse a sentence\n",
        "sentence1 = \"She saw a dog with the telescope\" # Ambiguity\n",
        "sentence2 = \"Her cat walked in the park\" # Unambiguous Parse\n",
        "\n",
        "words1 = sentence1.lower().split()\n",
        "words2 = sentence2.lower().split()\n",
        "\n",
        "# Create a chart parser with the defined grammar\n",
        "parser = ChartParser(cfg)\n",
        "\n",
        "print(f\"Parsing sentence : {sentence1}\")\n",
        "for tree in parser.parse(words1):\n",
        "  print(tree)\n",
        "  tree.pretty_print()\n",
        "\n",
        "print(f\"Parsing sentence : {sentence2}\")\n",
        "for tree in parser.parse(words2):\n",
        "  print(tree)\n",
        "  tree.pretty_print()"
      ],
      "metadata": {
        "colab": {
          "base_uri": "https://localhost:8080/"
        },
        "id": "lVaJmN15bj3f",
        "outputId": "874da8b2-168c-461e-d5c4-b4618c99e624"
      },
      "execution_count": 47,
      "outputs": [
        {
          "output_type": "stream",
          "name": "stdout",
          "text": [
            "Parsing sentence : She saw a dog with the telescope\n",
            "(S\n",
            "  (NP (Pronoun she))\n",
            "  (VP\n",
            "    (V saw)\n",
            "    (NP (Det a) (N dog))\n",
            "    (PP (P with) (NP (Det the) (N telescope)))))\n",
            "         S                                    \n",
            "    _____|___________                          \n",
            "   |                 VP                       \n",
            "   |      ___________|________                 \n",
            "   |     |       |            PP              \n",
            "   |     |       |        ____|___             \n",
            "   NP    |       NP      |        NP          \n",
            "   |     |    ___|___    |     ___|______      \n",
            "Pronoun  V  Det      N   P   Det         N    \n",
            "   |     |   |       |   |    |          |     \n",
            "  she   saw  a      dog with the     telescope\n",
            "\n",
            "(S\n",
            "  (NP (Pronoun she))\n",
            "  (VP\n",
            "    (V saw)\n",
            "    (NP\n",
            "      (NP (Det a) (N dog))\n",
            "      (PP (P with) (NP (Det the) (N telescope))))))\n",
            "         S                                    \n",
            "    _____|___________                          \n",
            "   |                 VP                       \n",
            "   |      ___________|___                      \n",
            "   |     |               NP                   \n",
            "   |     |        _______|____                 \n",
            "   |     |       |            PP              \n",
            "   |     |       |        ____|___             \n",
            "   NP    |       NP      |        NP          \n",
            "   |     |    ___|___    |     ___|______      \n",
            "Pronoun  V  Det      N   P   Det         N    \n",
            "   |     |   |       |   |    |          |     \n",
            "  she   saw  a      dog with the     telescope\n",
            "\n",
            "Parsing sentence : Her cat walked in the park\n",
            "(S\n",
            "  (NP (Det her) (N cat))\n",
            "  (VP (V walked) (PP (P in) (NP (Det the) (N park)))))\n",
            "              S                        \n",
            "      ________|_________                \n",
            "     |                  VP             \n",
            "     |         _________|___            \n",
            "     |        |             PP         \n",
            "     |        |      _______|___        \n",
            "     NP       |     |           NP     \n",
            "  ___|___     |     |        ___|___    \n",
            "Det      N    V     P      Det      N  \n",
            " |       |    |     |       |       |   \n",
            "her     cat walked  in     the     park\n",
            "\n"
          ]
        }
      ]
    },
    {
      "cell_type": "markdown",
      "source": [
        "Sentence 1: \"She saw a dog with a telescope\"\n",
        "\n",
        "Ambiguity:\n",
        "\n",
        "* PP attaches to VP (preferred): She [saw [a dog] [with a telescope]] (She used a telescope to see the dog).(Meaning: She used a telescope to see the dog.)\n",
        "\n",
        "* PP attaches to NP: She [saw [a dog [with a telescope]]] (The dog had a telescope).(Meaning: The dog had a telescope.)\n",
        "\n",
        "Sentence 2: \"Her cat walked in the park\"\n",
        "\n",
        "Unambiguous Parse"
      ],
      "metadata": {
        "id": "Naptl4K2nn2J"
      }
    },
    {
      "cell_type": "markdown",
      "source": [
        "Reducing Ambiguity in the CFG\n",
        "Problem: The grammar allows PP attachment ambiguity (e.g., \"saw a dog with a telescope\").\n",
        "\n",
        "Solutions:\n",
        "\n",
        "1.Add lexical preferences:\n",
        "\n",
        "* Verbs like \"saw\" prefer VP attachment.\n",
        "\n",
        "* Nouns like \"dog\" may allow NP attachment if semantically plausible\n",
        "\n",
        "2.Modify the grammar to bias attachments\n"
      ],
      "metadata": {
        "id": "a3zVJRL4qUVw"
      }
    },
    {
      "cell_type": "code",
      "source": [
        "from google.colab import drive\n",
        "drive.mount('/content/drive')"
      ],
      "metadata": {
        "id": "Ordh2HhW00dm"
      },
      "execution_count": null,
      "outputs": []
    },
    {
      "cell_type": "code",
      "source": [
        "# VP -> V NP | V NP PP_high | V PP_low  # PP_high = prefers VP attachment\n",
        "# NP -> Det N | Det N PP_low             # PP_low = prefers NP attachment\n",
        "# PP_high -> \"with\" NP                   # Force \"with\" to attach to VP\n",
        "# PP_low -> \"in\" NP | \"on\" NP            # Force \"in/on\" to attach to NP"
      ],
      "metadata": {
        "id": "KBFIFfJJrT9P"
      },
      "execution_count": null,
      "outputs": []
    },
    {
      "cell_type": "code",
      "source": [
        "cfg = CFG.fromstring(\"\"\"\n",
        "  S -> NP VP\n",
        "  VP -> V NP | V NP PP_high | V PP_low\n",
        "  PP_high -> \"with\" NP\n",
        "  PP_low -> \"in\" NP | \"on\" NP | \"near\" NP\n",
        "  NP -> Det N | N | Pronoun | NP PP_low\n",
        "  Det -> \"the\" | \"a\" | \"her\" | \"his\"\n",
        "  N -> \"cat\" | \"dog\" | \"park\" | \"telescope\" | \"hat\"\n",
        "  V -> \"saw\" | \"walked\" | \"ate\" | \"ran\"\n",
        "  P -> \"in\" | \"on\" | \"with\" | \"near\"\n",
        "  Pronoun -> \"she\" | \"he\" | \"they\"\n",
        "\"\"\")"
      ],
      "metadata": {
        "id": "Co8HREAsrVd3"
      },
      "execution_count": 58,
      "outputs": []
    },
    {
      "cell_type": "code",
      "source": [
        "\n",
        "# parse a sentence\n",
        "sentence = \"she saw a dog with the telescope\" # Ambiguity\n",
        "words = sentence.lower().split()\n",
        "\n",
        "# Create a chart parser with the defined grammar\n",
        "parser = ChartParser(cfg)\n",
        "\n",
        "print(f\"Parsing sentence : {sentence}\")\n",
        "for tree in parser.parse(words):\n",
        "  print(tree)\n",
        "  tree.pretty_print()"
      ],
      "metadata": {
        "colab": {
          "base_uri": "https://localhost:8080/"
        },
        "id": "yK4S1--SgqZE",
        "outputId": "8e33561e-2481-4720-e2ae-fad5305dd2ad"
      },
      "execution_count": 59,
      "outputs": [
        {
          "output_type": "stream",
          "name": "stdout",
          "text": [
            "Parsing sentence : she saw a dog with the telescope\n",
            "(S\n",
            "  (NP (Pronoun she))\n",
            "  (VP\n",
            "    (V saw)\n",
            "    (NP (Det a) (N dog))\n",
            "    (PP_high with (NP (Det the) (N telescope)))))\n",
            "         S                                        \n",
            "    _____|___________                              \n",
            "   |                 VP                           \n",
            "   |      ___________|__________                   \n",
            "   |     |       |           PP_high              \n",
            "   |     |       |        ______|_____             \n",
            "   NP    |       NP      |            NP          \n",
            "   |     |    ___|___    |       _____|______      \n",
            "Pronoun  V  Det      N   |     Det           N    \n",
            "   |     |   |       |   |      |            |     \n",
            "  she   saw  a      dog with   the       telescope\n",
            "\n"
          ]
        }
      ]
    },
    {
      "cell_type": "markdown",
      "source": [
        "3."
      ],
      "metadata": {
        "id": "gMLNvJMfvOAG"
      }
    },
    {
      "cell_type": "code",
      "source": [
        "# Define the context free grammar\n",
        "cfg = CFG.fromstring(\"\"\"\n",
        "  S -> NP VP\n",
        "  VP -> V NP | V NP PP | V PP | V\n",
        "  PP -> P NP\n",
        "  NP -> Det N | N | Pronoun | NP PP\n",
        "  Det -> \"the\" | \"a\" | \"her\" | \"his\" | \"my\"\n",
        "  N -> \"cat\" | \"park\" | \"dog\" | \"telescope\" | \"book\" | \"man\"\n",
        "  V -> \"walked\" | \"saw\" | \"ran\" | \"ate\"\n",
        "  P -> \"in\" | \"on\" | \"with\" | \"near\"\n",
        "  Pronoun -> \"she\" | \"he\" | \"it\" | \"they\"\n",
        "\"\"\")\n",
        "\n",
        "# parse a sentence\n",
        "sentence = \"she walked with the dog\" # Ambiguity\n",
        "words = sentence.lower().split()\n",
        "\n",
        "# Create a chart parser with the defined grammar\n",
        "parser = ChartParser(cfg)\n",
        "\n",
        "print(f\"Parsing sentence : {sentence}\")\n",
        "for tree in parser.parse(words):\n",
        "  print(tree)\n",
        "  tree.pretty_print()"
      ],
      "metadata": {
        "colab": {
          "base_uri": "https://localhost:8080/"
        },
        "id": "0q6lYKzJhMed",
        "outputId": "63aff477-aeeb-4b33-85a0-838676443621"
      },
      "execution_count": 63,
      "outputs": [
        {
          "output_type": "stream",
          "name": "stdout",
          "text": [
            "Parsing sentence : she walked with the dog\n",
            "(S\n",
            "  (NP (Pronoun she))\n",
            "  (VP (V walked) (PP (P with) (NP (Det the) (N dog)))))\n",
            "                S                  \n",
            "    ____________|____               \n",
            "   |                 VP            \n",
            "   |       __________|___           \n",
            "   |      |              PP        \n",
            "   |      |      ________|___       \n",
            "   NP     |     |            NP    \n",
            "   |      |     |         ___|___   \n",
            "Pronoun   V     P       Det      N \n",
            "   |      |     |        |       |  \n",
            "  she   walked with     the     dog\n",
            "\n"
          ]
        }
      ]
    }
  ]
}